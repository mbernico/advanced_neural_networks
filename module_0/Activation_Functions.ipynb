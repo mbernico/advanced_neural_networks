{
 "cells": [
  {
   "cell_type": "markdown",
   "metadata": {},
   "source": [
    "# The Sigmoid function"
   ]
  },
  {
   "cell_type": "markdown",
   "metadata": {},
   "source": [
    "The Sigmoid function squeezes the output of a function to a value between 0 and 1.  This is an importan piece of convering linear regression to logistic regression.  In artifical neurons sigmoid is often used as an 'activation function,' which is the function that controls the output of the neuron, given it's inputs.\n",
    "\n",
    "Mathematically, sigmoid looks like this:\n",
    "\n",
    "$$f(z) = \\frac{1}{1+e^{-z}}$$\n",
    "\n",
    "Lets implment this in python:"
   ]
  },
  {
   "cell_type": "code",
   "execution_count": 65,
   "metadata": {
    "collapsed": true
   },
   "outputs": [],
   "source": [
    "from math import e\n",
    "import matplotlib.pyplot as plt\n",
    "import numpy as np\n",
    "%matplotlib inline"
   ]
  },
  {
   "cell_type": "code",
   "execution_count": 66,
   "metadata": {
    "collapsed": true
   },
   "outputs": [],
   "source": [
    "def sigmoid(z):\n",
    "    y = 1 / (1 + e ** -z)\n",
    "    return y"
   ]
  },
  {
   "cell_type": "code",
   "execution_count": 67,
   "metadata": {
    "collapsed": false
   },
   "outputs": [],
   "source": [
    "demo_list = np.arange(-10, 11, 1)  # creates array [-10, 9, .., 9, 10]\n",
    "out = [sigmoid(x) for x in demo_list]"
   ]
  },
  {
   "cell_type": "code",
   "execution_count": 80,
   "metadata": {
    "collapsed": false
   },
   "outputs": [
    {
     "data": {
      "image/png": "[encoded data removed]",
      "text/plain": [
       "<matplotlib.figure.Figure at 0x109ddc6a0>"
      ]
     },
     "metadata": {},
     "output_type": "display_data"
    }
   ],
   "source": [
    "plt.xticks(np.arange(21), demo_list)\n",
    "plt.plot(out)\n",
    "plt.plot([0,20], [.5,.5], color='black', label=\"x\")\n",
    "plt.title(\"Sigmoid Function\")\n",
    "plt.show()"
   ]
  },
  {
   "cell_type": "markdown",
   "metadata": {},
   "source": [
    "# RELU\n",
    "\n",
    "Another popular activation function is relu, or rectilinear activation.  \n",
    "\n",
    "It's defined mathematically like this:\n",
    "\n",
    "$$f(x) = \\max(0,x)$$\n",
    "\n",
    "\n",
    "Relu has a really easy derivative, it's either 0 or 1. This makes it desirable computationally as an activation function, and it's commonly used."
   ]
  },
  {
   "cell_type": "code",
   "execution_count": 84,
   "metadata": {
    "collapsed": false
   },
   "outputs": [
    {
     "data": {
      "image/png": "[encoded data removed]",
      "text/plain": [
       "<matplotlib.figure.Figure at 0x109ed5198>"
      ]
     },
     "metadata": {},
     "output_type": "display_data"
    }
   ],
   "source": [
    "plt.title(\"RELU Function\")\n",
    "plt.xticks(np.arange(21), demo_list)\n",
    "plt.plot(np.maximum(demo_list, 0))\n",
    "plt.show()"
   ]
  },
  {
   "cell_type": "markdown",
   "metadata": {},
   "source": [
    "# Hyperbolic Tangent\n",
    "\n",
    "The last activation function is yours to code.\n",
    "\n",
    "$$f(z) = \\tanh(z) = \\frac{e^z - e^{-z}}{e^z + e^{-z}}$$\n",
    "\n",
    "Problem 1: As I did above, graph use demo_list to graph this function below\n",
    "\n",
    "Problem 2:  In relu and sigmoid the output range is [0,1]. What is the output range for hyperbolic tangent?\n",
    "\n",
    "Problem 3:  What's the first derivative of the hyperbolic tangent function?\n"
   ]
  },
  {
   "cell_type": "code",
   "execution_count": null,
   "metadata": {
    "collapsed": true
   },
   "outputs": [],
   "source": []
  }
 ],
 "metadata": {
  "kernelspec": {
   "display_name": "Python [default]",
   "language": "python",
   "name": "python3"
  },
  "language_info": {
   "codemirror_mode": {
    "name": "ipython",
    "version": 3
   },
   "file_extension": ".py",
   "mimetype": "text/x-python",
   "name": "python",
   "nbconvert_exporter": "python",
   "pygments_lexer": "ipython3",
   "version": "3.5.2"
  }
 },
 "nbformat": 4,
 "nbformat_minor": 2
}
