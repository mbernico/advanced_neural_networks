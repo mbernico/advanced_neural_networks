{
 "cells": [
  {
   "cell_type": "code",
   "execution_count": null,
   "metadata": {},
   "outputs": [],
   "source": [
    "from keras.models import Model\n",
    "from keras.layers.recurrent import LSTM\n",
    "from keras.layers import Dense, Input, Embedding\n",
    "from keras.preprocessing.sequence import pad_sequences\n",
    "from keras.callbacks import ModelCheckpoint, TensorBoard\n",
    "from collections import Counter\n",
    "import nltk\n",
    "import numpy as np\n",
    "from sklearn.model_selection import train_test_split\n",
    "import pickle"
   ]
  },
  {
   "cell_type": "code",
   "execution_count": null,
   "metadata": {},
   "outputs": [],
   "source": [
    "# you should only need to run this once.\n",
    "nltk.download()"
   ]
  },
  {
   "cell_type": "code",
   "execution_count": 49,
   "metadata": {
    "collapsed": true
   },
   "outputs": [],
   "source": [
    "class TextData:\n",
    "    \"\"\"data class for text data\"\"\"\n",
    "    \n",
    "    def __init__(self, input_texts, target_texts, input_counter, target_counter):\n",
    "        self.input_texts = input_texts\n",
    "        self.target_texts = target_texts\n",
    "        self.input_counter = input_counter\n",
    "        self.target_counter = target_counter\n",
    "\n",
    "        \n",
    "    def save(self):\n",
    "        self.filename = \"./model/text_data.pkl\"\n",
    "        pickle.dump(self, open(self.filename,'wb'))\n",
    "    \n",
    "    @classmethod\n",
    "    def load(self):\n",
    "        self.filename = \"./model/text_data.pkl\"\n",
    "        return pickle.load(open(self.filename,'rb'))\n"
   ]
  },
  {
   "cell_type": "code",
   "execution_count": 50,
   "metadata": {},
   "outputs": [],
   "source": [
    "def load_data(path=\"./data/movie_lines.txt\", max_seq_length=20, max_vocab_size=100):\n",
    "    \"\"\"Based on: https://github.com/subpath/ChatBot/blob/master/Chatbot_training.py\"\"\"\n",
    "    \n",
    "    input_counter = Counter()\n",
    "    target_counter = Counter()\n",
    "    input_texts = []\n",
    "    target_texts = []\n",
    "\n",
    "    with open(path, 'r', encoding=\"latin-1\") as f:\n",
    "        df = f.read()\n",
    "    rows = df.split('\\n')\n",
    "    lines = [row.split(' +++$+++ ')[-1] for row in rows]\n",
    "\n",
    "\n",
    "    prev_words = []\n",
    "    for line in lines:\n",
    "\n",
    "        next_words = [w.lower() for w in nltk.word_tokenize(line)]\n",
    "        if len(next_words) > max_seq_length:\n",
    "            next_words = next_words[0:max_seq_length]\n",
    "\n",
    "        if len(prev_words) > 0:\n",
    "            input_texts.append(prev_words)\n",
    "            for w in prev_words:\n",
    "                input_counter[w] += 1\n",
    "            target_words = next_words[:]\n",
    "            target_words.insert(0, 'START')\n",
    "            target_words.append('END')\n",
    "            for w in target_words:\n",
    "                target_counter[w] += 1\n",
    "            target_texts.append(target_words)\n",
    "\n",
    "        prev_words = next_words\n",
    "    td = TextData(input_texts, target_texts, input_counter, target_counter)\n",
    "    return td"
   ]
  },
  {
   "cell_type": "code",
   "execution_count": 51,
   "metadata": {},
   "outputs": [],
   "source": [
    "def encode_raw_text_data(text_data, max_vocab_size=100):\n",
    "    input_word2idx = dict()\n",
    "    target_word2idx = dict()\n",
    "    for idx, word in enumerate(text_data.input_counter.most_common(max_vocab_size)):\n",
    "        input_word2idx[word[0]] = idx + 2\n",
    "    for idx, word in enumerate(text_data.target_counter.most_common(max_vocab_size)):\n",
    "        target_word2idx[word[0]] = idx + 1\n",
    "\n",
    "    input_word2idx['PAD'] = 0\n",
    "    input_word2idx['UNK'] = 1\n",
    "    target_word2idx['UNK'] = 0\n",
    "\n",
    "    input_idx2word = dict([(idx, word) for word, idx in input_word2idx.items()])\n",
    "    target_idx2word = dict([(idx, word) for word, idx in target_word2idx.items()])\n",
    "\n",
    "    num_encoder_tokens = len(input_idx2word)\n",
    "    num_decoder_tokens = len(target_idx2word)\n",
    "\n",
    "    text_data.input_word2idx = input_word2idx\n",
    "    text_data.input_idx2word = input_idx2word\n",
    "    text_data.target_word2idx = target_word2idx\n",
    "    text_data.target_idx2word = target_idx2word\n",
    "    \n",
    "\n",
    "    encoder_input_data = []\n",
    "\n",
    "    encoder_max_seq_length = 0\n",
    "    decoder_max_seq_length = 0\n",
    "\n",
    "    for input_words, target_words in zip(text_data.input_texts, text_data.target_texts):\n",
    "        encoder_input_wids = []\n",
    "        for w in input_words:\n",
    "            w2idx = 1\n",
    "            if w in input_word2idx:\n",
    "                w2idx = input_word2idx[w]\n",
    "            encoder_input_wids.append(w2idx)\n",
    "\n",
    "        encoder_input_data.append(encoder_input_wids)\n",
    "        encoder_max_seq_length = max(len(encoder_input_wids), encoder_max_seq_length)\n",
    "        decoder_max_seq_length = max(len(target_words), decoder_max_seq_length)\n",
    "\n",
    "    \n",
    "    text_data.encoder_input_data = encoder_input_data\n",
    "    text_data.num_encoder_tokens = num_encoder_tokens\n",
    "    text_data.num_decoder_tokens = num_decoder_tokens\n",
    "    text_data.encoder_max_seq_length = encoder_max_seq_length\n",
    "    text_data.decoder_max_seq_length = decoder_max_seq_length\n",
    "    \n",
    "    return text_data\n",
    "    \n"
   ]
  },
  {
   "cell_type": "code",
   "execution_count": 52,
   "metadata": {
    "collapsed": true
   },
   "outputs": [],
   "source": [
    "def generate_batch(input_data, output_text_data, text_data, batch_size=128):\n",
    "    num_batches = len(input_data) // batch_size\n",
    "    while True:\n",
    "        for batchIdx in range(0, num_batches):\n",
    "            start = batchIdx * batch_size\n",
    "            end = (batchIdx + 1) * batch_size\n",
    "            encoder_input_data_batch = pad_sequences(input_data[start:end], text_data.encoder_max_seq_length)\n",
    "            decoder_target_data_batch = np.zeros(shape=(batch_size, text_data.decoder_max_seq_length, text_data.num_decoder_tokens))\n",
    "            decoder_input_data_batch = np.zeros(shape=(batch_size, text_data.decoder_max_seq_length, text_data.num_decoder_tokens))\n",
    "            for lineIdx, target_words in enumerate(output_text_data[start:end]):\n",
    "                for idx, w in enumerate(target_words):\n",
    "                    w2idx = 0\n",
    "                    if w in text_data.target_word2idx:\n",
    "                        w2idx = text_data.target_word2idx[w]\n",
    "                    decoder_input_data_batch[lineIdx, idx, w2idx] = 1\n",
    "                    if idx > 0:\n",
    "                        decoder_target_data_batch[lineIdx, idx - 1, w2idx] = 1\n",
    "            yield [encoder_input_data_batch, decoder_input_data_batch], decoder_target_data_batch"
   ]
  },
  {
   "cell_type": "code",
   "execution_count": 53,
   "metadata": {
    "collapsed": true
   },
   "outputs": [],
   "source": [
    "def build_model(text_data, hidden_units=256):\n",
    "    encoder_inputs = Input(shape=(None,), name='encoder_inputs')\n",
    "    encoder_embedding = Embedding(input_dim=text_data.num_encoder_tokens, output_dim=hidden_units,\n",
    "                                  input_length=text_data.encoder_max_seq_length, name='encoder_embedding')\n",
    "    encoder_lstm = LSTM(units=hidden_units, return_state=True, name='encoder_lstm')\n",
    "    encoder_outputs, encoder_state_h, encoder_state_c = encoder_lstm(encoder_embedding(encoder_inputs))\n",
    "    encoder_states = [encoder_state_h, encoder_state_c]\n",
    "\n",
    "    decoder_inputs = Input(shape=(None, text_data.num_decoder_tokens), name='decoder_inputs')\n",
    "    decoder_lstm = LSTM(units=hidden_units, return_state=True, return_sequences=True, name='decoder_lstm')\n",
    "    decoder_outputs, decoder_state_h, decoder_state_c = decoder_lstm(decoder_inputs,\n",
    "                                                                     initial_state=encoder_states)\n",
    "    decoder_dense = Dense(units=text_data.num_decoder_tokens, activation='softmax', name='decoder_dense')\n",
    "    decoder_outputs = decoder_dense(decoder_outputs)\n",
    "\n",
    "    model = Model([encoder_inputs, decoder_inputs], decoder_outputs)\n",
    "\n",
    "    model.compile(loss='categorical_crossentropy', optimizer='adam')\n",
    "    \n",
    "    return model"
   ]
  },
  {
   "cell_type": "code",
   "execution_count": 54,
   "metadata": {},
   "outputs": [],
   "source": [
    "text_data = load_data()\n",
    "text_data = encode_raw_text_data(text_data)"
   ]
  },
  {
   "cell_type": "markdown",
   "metadata": {},
   "source": [
    "## HW Q1: Build a loop that prints the first 10 text_data.input_texts and text_data.target_texts\n"
   ]
  },
  {
   "cell_type": "markdown",
   "metadata": {},
   "source": [
    "## HW Q2:  print the content of encoder_input_data[0]\n",
    "## HW Q3: use text_data.input_idx2word to translate encoder_input_data[0] back to english words"
   ]
  },
  {
   "cell_type": "code",
   "execution_count": 55,
   "metadata": {},
   "outputs": [],
   "source": [
    "text_data.save()"
   ]
  },
  {
   "cell_type": "code",
   "execution_count": 35,
   "metadata": {},
   "outputs": [
    {
     "name": "stdout",
     "output_type": "stream",
     "text": [
      "WARNING:tensorflow:From /Users/mike/anaconda3/lib/python3.6/site-packages/keras/backend/tensorflow_backend.py:1188: calling reduce_sum (from tensorflow.python.ops.math_ops) with keep_dims is deprecated and will be removed in a future version.\n",
      "Instructions for updating:\n",
      "keep_dims is deprecated, use keepdims instead\n",
      "WARNING:tensorflow:From /Users/mike/anaconda3/lib/python3.6/site-packages/keras/backend/tensorflow_backend.py:1154: calling reduce_max (from tensorflow.python.ops.math_ops) with keep_dims is deprecated and will be removed in a future version.\n",
      "Instructions for updating:\n",
      "keep_dims is deprecated, use keepdims instead\n",
      "WARNING:tensorflow:From /Users/mike/anaconda3/lib/python3.6/site-packages/keras/backend/tensorflow_backend.py:1290: calling reduce_mean (from tensorflow.python.ops.math_ops) with keep_dims is deprecated and will be removed in a future version.\n",
      "Instructions for updating:\n",
      "keep_dims is deprecated, use keepdims instead\n"
     ]
    }
   ],
   "source": [
    "model = build_model(text_data)"
   ]
  },
  {
   "cell_type": "markdown",
   "metadata": {},
   "source": [
    "## HW4: Explain the model architecture in your own words\n",
    "\n",
    "## HW5: How does the encoder condition the decoder?  What are the inputs and outputs to the decoder?"
   ]
  },
  {
   "cell_type": "code",
   "execution_count": 41,
   "metadata": {},
   "outputs": [],
   "source": [
    "X_train, X_test, y_train, y_test = train_test_split(text_data.encoder_input_data, text_data.target_texts, test_size=0.2, random_state=42)\n",
    "\n",
    "train_gen = generate_batch(X_train, y_train, text_data)\n",
    "test_gen = generate_batch(X_test, y_test, text_data)\n",
    "\n",
    "BATCH_SIZE=128\n",
    "train_num_batches = len(X_train) // BATCH_SIZE\n",
    "test_num_batches = len(X_test) // BATCH_SIZE\n"
   ]
  },
  {
   "cell_type": "code",
   "execution_count": 42,
   "metadata": {
    "collapsed": true
   },
   "outputs": [],
   "source": [
    "TENSORBOARD = 'TensorBoard/'\n",
    "WEIGHT_FILE_PATH = 'model/word-weights.h5'\n",
    "checkpoint = ModelCheckpoint(filepath=WEIGHT_FILE_PATH, save_best_only=True)\n",
    "tbCallBack = TensorBoard(log_dir=TENSORBOARD, histogram_freq=0, write_graph=True, write_images=True)"
   ]
  },
  {
   "cell_type": "code",
   "execution_count": 44,
   "metadata": {},
   "outputs": [
    {
     "name": "stdout",
     "output_type": "stream",
     "text": [
      "Epoch 1/1\n",
      "1902/1902 [==============================] - 726s - loss: 1.2511 - val_loss: 1.2304\n"
     ]
    }
   ],
   "source": [
    "model.fit_generator(generator=train_gen,\n",
    "                    steps_per_epoch=train_num_batches,\n",
    "                    epochs=100,\n",
    "                    verbose=1,\n",
    "                    validation_data=test_gen,\n",
    "                    validation_steps=test_num_batches,\n",
    "                    callbacks=[checkpoint, tbCallBack ])\n",
    "\n"
   ]
  },
  {
   "cell_type": "code",
   "execution_count": 46,
   "metadata": {
    "collapsed": true
   },
   "outputs": [],
   "source": [
    "WEIGHT_FILE_PATH = 'model/weights.h5'\n",
    "model.save_weights(WEIGHT_FILE_PATH)"
   ]
  },
  {
   "cell_type": "code",
   "execution_count": null,
   "metadata": {
    "collapsed": true
   },
   "outputs": [],
   "source": []
  }
 ],
 "metadata": {
  "kernelspec": {
   "display_name": "Python 3",
   "language": "python",
   "name": "python3"
  },
  "language_info": {
   "codemirror_mode": {
    "name": "ipython",
    "version": 3
   },
   "file_extension": ".py",
   "mimetype": "text/x-python",
   "name": "python",
   "nbconvert_exporter": "python",
   "pygments_lexer": "ipython3",
   "version": "3.6.2"
  }
 },
 "nbformat": 4,
 "nbformat_minor": 2
}
